{
 "cells": [
  {
   "cell_type": "markdown",
   "metadata": {},
   "source": [
    "# Pool Elo"
   ]
  },
  {
   "cell_type": "code",
   "execution_count": 38,
   "metadata": {},
   "outputs": [],
   "source": [
    "%matplotlib inline\n",
    "import numpy as np\n",
    "import scipy as sp\n",
    "import matplotlib as mpl\n",
    "import matplotlib.cm as cm\n",
    "import matplotlib.pyplot as plt\n",
    "import pandas as pd\n",
    "import time\n",
    "import seaborn as sns\n",
    "from bs4 import BeautifulSoup\n",
    "import requests\n",
    "import csv"
   ]
  },
  {
   "cell_type": "code",
   "execution_count": 39,
   "metadata": {},
   "outputs": [],
   "source": [
    "data = pd.read_csv('predatorCLP.csv')"
   ]
  },
  {
   "cell_type": "code",
   "execution_count": 40,
   "metadata": {},
   "outputs": [],
   "source": [
    "players = pd.concat([data.WinnerName, data.LoserName] )"
   ]
  },
  {
   "cell_type": "code",
   "execution_count": 41,
   "metadata": {},
   "outputs": [
    {
     "data": {
      "text/plain": [
       "Albin Ouschan        52\n",
       "Mieszko Fortunski    40\n",
       "Niels Feijen         36\n",
       "Billy Thorpe         33\n",
       "Marc Bijsterbosch    27\n",
       "Kelly Fisher         26\n",
       "David Alcaide        22\n",
       "Eklent Kaci          22\n",
       "Naoyuki Oi           21\n",
       "Chris Melling        15\n",
       "Alex Kazakis         15\n",
       "Roberto Gomez        14\n",
       "Casper Matikainen    12\n",
       "Ralf Souquet         12\n",
       "Kristina Tkach       12\n",
       "Denis Grabe           7\n",
       "Jasmin Ouschan        6\n",
       "Darren Appleton       6\n",
       "Chris Robinson        6\n",
       "dtype: int64"
      ]
     },
     "execution_count": 41,
     "metadata": {},
     "output_type": "execute_result"
    }
   ],
   "source": [
    "players.value_counts()"
   ]
  },
  {
   "cell_type": "code",
   "execution_count": 65,
   "metadata": {},
   "outputs": [
    {
     "data": {
      "text/plain": [
       "19"
      ]
     },
     "execution_count": 65,
     "metadata": {},
     "output_type": "execute_result"
    }
   ],
   "source": [
    "# How many players\n",
    "nplayers = len(players.value_counts())\n",
    "nplayers"
   ]
  },
  {
   "cell_type": "code",
   "execution_count": 43,
   "metadata": {},
   "outputs": [
    {
     "data": {
      "text/plain": [
       "<AxesSubplot:>"
      ]
     },
     "execution_count": 43,
     "metadata": {},
     "output_type": "execute_result"
    },
    {
     "data": {
      "image/png": "[encoded data removed]",
      "text/plain": [
       "<Figure size 432x288 with 1 Axes>"
      ]
     },
     "metadata": {
      "needs_background": "light"
     },
     "output_type": "display_data"
    }
   ],
   "source": [
    "# Plot barplot\n",
    "players.value_counts().plot(kind='bar')"
   ]
  },
  {
   "cell_type": "code",
   "execution_count": null,
   "metadata": {},
   "outputs": [],
   "source": []
  },
  {
   "cell_type": "code",
   "execution_count": 50,
   "metadata": {},
   "outputs": [
    {
     "data": {
      "text/plain": [
       "<AxesSubplot:>"
      ]
     },
     "execution_count": 50,
     "metadata": {},
     "output_type": "execute_result"
    },
    {
     "data": {
      "image/png": "[encoded data removed]",
      "text/plain": [
       "<Figure size 432x288 with 1 Axes>"
      ]
     },
     "metadata": {
      "needs_background": "light"
     },
     "output_type": "display_data"
    }
   ],
   "source": [
    "# Visualize Loser Racks\n",
    "data.LoserRacks.value_counts().loc[range(0,5,1)].plot(kind='bar')"
   ]
  },
  {
   "cell_type": "code",
   "execution_count": 45,
   "metadata": {},
   "outputs": [
    {
     "data": {
      "text/plain": [
       "2    96\n",
       "1    96\n",
       "Name: Table, dtype: int64"
      ]
     },
     "execution_count": 45,
     "metadata": {},
     "output_type": "execute_result"
    }
   ],
   "source": [
    "# Validate Even games per table \n",
    "data.Table.value_counts()"
   ]
  },
  {
   "cell_type": "code",
   "execution_count": 46,
   "metadata": {},
   "outputs": [
    {
     "data": {
      "text/plain": [
       "8    24\n",
       "7    24\n",
       "6    24\n",
       "5    24\n",
       "4    24\n",
       "3    24\n",
       "2    24\n",
       "1    24\n",
       "Name: Group, dtype: int64"
      ]
     },
     "execution_count": 46,
     "metadata": {},
     "output_type": "execute_result"
    }
   ],
   "source": [
    "# Validate Games per group \n",
    "data.Group.value_counts()"
   ]
  },
  {
   "cell_type": "code",
   "execution_count": 47,
   "metadata": {},
   "outputs": [
    {
     "data": {
      "text/plain": [
       "0    176\n",
       "1     16\n",
       "Name: isSemi, dtype: int64"
      ]
     },
     "execution_count": 47,
     "metadata": {},
     "output_type": "execute_result"
    }
   ],
   "source": [
    "# Validate 16 Semi Finals\n",
    "data.isSemi.value_counts()"
   ]
  },
  {
   "cell_type": "code",
   "execution_count": 48,
   "metadata": {},
   "outputs": [
    {
     "data": {
      "text/plain": [
       "0    184\n",
       "1      8\n",
       "Name: isFinal, dtype: int64"
      ]
     },
     "execution_count": 48,
     "metadata": {},
     "output_type": "execute_result"
    }
   ],
   "source": [
    "# Validate 8 Finals\n",
    "data.isFinal.value_counts()"
   ]
  },
  {
   "cell_type": "code",
   "execution_count": null,
   "metadata": {},
   "outputs": [],
   "source": []
  },
  {
   "cell_type": "code",
   "execution_count": null,
   "metadata": {},
   "outputs": [],
   "source": []
  },
  {
   "cell_type": "code",
   "execution_count": null,
   "metadata": {},
   "outputs": [],
   "source": []
  },
  {
   "cell_type": "code",
   "execution_count": 150,
   "metadata": {},
   "outputs": [],
   "source": [
    "# Elo Rating System \n",
    "# Constants\n",
    "INITIAL_RATING = 1500\n",
    "ELO_WIDTH = 400\n",
    "K = 50"
   ]
  },
  {
   "cell_type": "code",
   "execution_count": 151,
   "metadata": {},
   "outputs": [],
   "source": [
    "def expected(A, B, elo_width): \n",
    "    proba = 1/ ( 1 + 10 ** ((B - A) / elo_width))\n",
    "    return( proba )\n",
    "\n",
    "# https://www.kaggle.com/kplauritzen/elo-ratings-in-python\n",
    "def update_elo(winner_elo, loser_elo, k, elo_width):\n",
    "    \"\"\"\n",
    "    https://en.wikipedia.org/wiki/Elo_rating_system#Mathematical_details\n",
    "    \"\"\"\n",
    "    expected_win = expected(winner_elo, loser_elo, elo_width)\n",
    "    change_in_elo = k * (1-expected_win)\n",
    "    winner_elo += change_in_elo\n",
    "    loser_elo -= change_in_elo\n",
    "    return winner_elo, loser_elo"
   ]
  },
  {
   "cell_type": "code",
   "execution_count": 136,
   "metadata": {},
   "outputs": [],
   "source": []
  },
  {
   "cell_type": "code",
   "execution_count": 137,
   "metadata": {},
   "outputs": [
    {
     "data": {
      "text/plain": [
       "{'Albin Ouschan': 1500,\n",
       " 'Mieszko Fortunski': 1500,\n",
       " 'Niels Feijen': 1500,\n",
       " 'Billy Thorpe': 1500,\n",
       " 'Marc Bijsterbosch': 1500,\n",
       " 'Kelly Fisher': 1500,\n",
       " 'David Alcaide': 1500,\n",
       " 'Eklent Kaci': 1500,\n",
       " 'Naoyuki Oi': 1500,\n",
       " 'Chris Melling': 1500,\n",
       " 'Alex Kazakis': 1500,\n",
       " 'Roberto Gomez': 1500,\n",
       " 'Casper Matikainen': 1500,\n",
       " 'Ralf Souquet': 1500,\n",
       " 'Kristina Tkach': 1500,\n",
       " 'Denis Grabe': 1500,\n",
       " 'Jasmin Ouschan': 1500,\n",
       " 'Darren Appleton': 1500,\n",
       " 'Chris Robinson': 1500}"
      ]
     },
     "execution_count": 137,
     "metadata": {},
     "output_type": "execute_result"
    }
   ],
   "source": []
  },
  {
   "cell_type": "code",
   "execution_count": 182,
   "metadata": {},
   "outputs": [],
   "source": [
    "\n",
    "def run_tournament(data=data, INITIAL_RATING = INITIAL_RATING, ELO_WIDTH = ELO_WIDTH, K=K):\n",
    "    \n",
    "    # Initialize Elo Ratings\n",
    "    elo_ratings = dict(zip(players.value_counts().index.unique(), \n",
    "                           np.repeat(INITIAL_RATING, nplayers)) )\n",
    "\n",
    "    # Iterate through rows of dataframe \n",
    "    for index, row in data.iterrows():\n",
    "        winner = row[\"WinnerName\"]\n",
    "        loser = row[\"LoserName\"]\n",
    "        if row['isSemi'] == True: \n",
    "            k = K*2\n",
    "        elif row['isFinal'] == True: \n",
    "            k = K*3\n",
    "        else: \n",
    "            k = K\n",
    "        new_winner_rating, new_loser_rating = update_elo(elo_ratings[winner], elo_ratings[loser], k, ELO_WIDTH)\n",
    "        elo_ratings[winner] = new_winner_rating\n",
    "        elo_ratings[loser] = new_loser_rating\n",
    "    ratings = pd.DataFrame.from_dict(elo_ratings, orient='index')\n",
    "    ratings = ratings.rename(columns={0: \"ratings\"})\n",
    "    return(ratings)"
   ]
  },
  {
   "cell_type": "code",
   "execution_count": 183,
   "metadata": {},
   "outputs": [],
   "source": [
    "ratings = run_tournament()"
   ]
  },
  {
   "cell_type": "code",
   "execution_count": 184,
   "metadata": {},
   "outputs": [
    {
     "data": {
      "text/html": [
       "<div>\n",
       "<style scoped>\n",
       "    .dataframe tbody tr th:only-of-type {\n",
       "        vertical-align: middle;\n",
       "    }\n",
       "\n",
       "    .dataframe tbody tr th {\n",
       "        vertical-align: top;\n",
       "    }\n",
       "\n",
       "    .dataframe thead th {\n",
       "        text-align: right;\n",
       "    }\n",
       "</style>\n",
       "<table border=\"1\" class=\"dataframe\">\n",
       "  <thead>\n",
       "    <tr style=\"text-align: right;\">\n",
       "      <th></th>\n",
       "      <th>ratings</th>\n",
       "    </tr>\n",
       "  </thead>\n",
       "  <tbody>\n",
       "    <tr>\n",
       "      <th>Albin Ouschan</th>\n",
       "      <td>1787.939127</td>\n",
       "    </tr>\n",
       "    <tr>\n",
       "      <th>Eklent Kaci</th>\n",
       "      <td>1679.107469</td>\n",
       "    </tr>\n",
       "    <tr>\n",
       "      <th>David Alcaide</th>\n",
       "      <td>1649.092329</td>\n",
       "    </tr>\n",
       "    <tr>\n",
       "      <th>Naoyuki Oi</th>\n",
       "      <td>1641.631940</td>\n",
       "    </tr>\n",
       "    <tr>\n",
       "      <th>Chris Melling</th>\n",
       "      <td>1631.589333</td>\n",
       "    </tr>\n",
       "    <tr>\n",
       "      <th>Niels Feijen</th>\n",
       "      <td>1578.185503</td>\n",
       "    </tr>\n",
       "    <tr>\n",
       "      <th>Marc Bijsterbosch</th>\n",
       "      <td>1572.369034</td>\n",
       "    </tr>\n",
       "    <tr>\n",
       "      <th>Denis Grabe</th>\n",
       "      <td>1504.205203</td>\n",
       "    </tr>\n",
       "    <tr>\n",
       "      <th>Alex Kazakis</th>\n",
       "      <td>1470.679688</td>\n",
       "    </tr>\n",
       "    <tr>\n",
       "      <th>Jasmin Ouschan</th>\n",
       "      <td>1439.981357</td>\n",
       "    </tr>\n",
       "    <tr>\n",
       "      <th>Mieszko Fortunski</th>\n",
       "      <td>1438.439969</td>\n",
       "    </tr>\n",
       "    <tr>\n",
       "      <th>Chris Robinson</th>\n",
       "      <td>1424.003305</td>\n",
       "    </tr>\n",
       "    <tr>\n",
       "      <th>Roberto Gomez</th>\n",
       "      <td>1408.911173</td>\n",
       "    </tr>\n",
       "    <tr>\n",
       "      <th>Casper Matikainen</th>\n",
       "      <td>1407.368550</td>\n",
       "    </tr>\n",
       "    <tr>\n",
       "      <th>Darren Appleton</th>\n",
       "      <td>1404.133128</td>\n",
       "    </tr>\n",
       "    <tr>\n",
       "      <th>Billy Thorpe</th>\n",
       "      <td>1387.623477</td>\n",
       "    </tr>\n",
       "    <tr>\n",
       "      <th>Kristina Tkach</th>\n",
       "      <td>1380.058292</td>\n",
       "    </tr>\n",
       "    <tr>\n",
       "      <th>Ralf Souquet</th>\n",
       "      <td>1373.212198</td>\n",
       "    </tr>\n",
       "    <tr>\n",
       "      <th>Kelly Fisher</th>\n",
       "      <td>1321.468925</td>\n",
       "    </tr>\n",
       "  </tbody>\n",
       "</table>\n",
       "</div>"
      ],
      "text/plain": [
       "                       ratings\n",
       "Albin Ouschan      1787.939127\n",
       "Eklent Kaci        1679.107469\n",
       "David Alcaide      1649.092329\n",
       "Naoyuki Oi         1641.631940\n",
       "Chris Melling      1631.589333\n",
       "Niels Feijen       1578.185503\n",
       "Marc Bijsterbosch  1572.369034\n",
       "Denis Grabe        1504.205203\n",
       "Alex Kazakis       1470.679688\n",
       "Jasmin Ouschan     1439.981357\n",
       "Mieszko Fortunski  1438.439969\n",
       "Chris Robinson     1424.003305\n",
       "Roberto Gomez      1408.911173\n",
       "Casper Matikainen  1407.368550\n",
       "Darren Appleton    1404.133128\n",
       "Billy Thorpe       1387.623477\n",
       "Kristina Tkach     1380.058292\n",
       "Ralf Souquet       1373.212198\n",
       "Kelly Fisher       1321.468925"
      ]
     },
     "execution_count": 184,
     "metadata": {},
     "output_type": "execute_result"
    }
   ],
   "source": [
    "ratings.sort_values(by='ratings', ascending = False)"
   ]
  },
  {
   "cell_type": "code",
   "execution_count": 176,
   "metadata": {},
   "outputs": [],
   "source": [
    "# Train-Test Split\n",
    "winnersgroup = data[data.Group == 8]\n",
    "prelims = data[data.Group != 8]"
   ]
  },
  {
   "cell_type": "code",
   "execution_count": 177,
   "metadata": {},
   "outputs": [],
   "source": [
    "ratingsPrelims = run_tournament(data=prelims)"
   ]
  },
  {
   "cell_type": "code",
   "execution_count": 178,
   "metadata": {},
   "outputs": [
    {
     "data": {
      "text/html": [
       "<div>\n",
       "<style scoped>\n",
       "    .dataframe tbody tr th:only-of-type {\n",
       "        vertical-align: middle;\n",
       "    }\n",
       "\n",
       "    .dataframe tbody tr th {\n",
       "        vertical-align: top;\n",
       "    }\n",
       "\n",
       "    .dataframe thead th {\n",
       "        text-align: right;\n",
       "    }\n",
       "</style>\n",
       "<table border=\"1\" class=\"dataframe\">\n",
       "  <thead>\n",
       "    <tr style=\"text-align: right;\">\n",
       "      <th></th>\n",
       "      <th>ratings</th>\n",
       "    </tr>\n",
       "  </thead>\n",
       "  <tbody>\n",
       "    <tr>\n",
       "      <th>David Alcaide</th>\n",
       "      <td>1705.970310</td>\n",
       "    </tr>\n",
       "    <tr>\n",
       "      <th>Niels Feijen</th>\n",
       "      <td>1689.670905</td>\n",
       "    </tr>\n",
       "    <tr>\n",
       "      <th>Eklent Kaci</th>\n",
       "      <td>1654.045591</td>\n",
       "    </tr>\n",
       "    <tr>\n",
       "      <th>Albin Ouschan</th>\n",
       "      <td>1648.862917</td>\n",
       "    </tr>\n",
       "    <tr>\n",
       "      <th>Chris Melling</th>\n",
       "      <td>1641.300990</td>\n",
       "    </tr>\n",
       "    <tr>\n",
       "      <th>Naoyuki Oi</th>\n",
       "      <td>1620.890778</td>\n",
       "    </tr>\n",
       "    <tr>\n",
       "      <th>Marc Bijsterbosch</th>\n",
       "      <td>1579.173243</td>\n",
       "    </tr>\n",
       "    <tr>\n",
       "      <th>Denis Grabe</th>\n",
       "      <td>1504.205203</td>\n",
       "    </tr>\n",
       "    <tr>\n",
       "      <th>Alex Kazakis</th>\n",
       "      <td>1470.679688</td>\n",
       "    </tr>\n",
       "    <tr>\n",
       "      <th>Jasmin Ouschan</th>\n",
       "      <td>1439.981357</td>\n",
       "    </tr>\n",
       "    <tr>\n",
       "      <th>Mieszko Fortunski</th>\n",
       "      <td>1438.439969</td>\n",
       "    </tr>\n",
       "    <tr>\n",
       "      <th>Chris Robinson</th>\n",
       "      <td>1424.003305</td>\n",
       "    </tr>\n",
       "    <tr>\n",
       "      <th>Roberto Gomez</th>\n",
       "      <td>1408.911173</td>\n",
       "    </tr>\n",
       "    <tr>\n",
       "      <th>Casper Matikainen</th>\n",
       "      <td>1407.368550</td>\n",
       "    </tr>\n",
       "    <tr>\n",
       "      <th>Darren Appleton</th>\n",
       "      <td>1404.133128</td>\n",
       "    </tr>\n",
       "    <tr>\n",
       "      <th>Billy Thorpe</th>\n",
       "      <td>1387.623477</td>\n",
       "    </tr>\n",
       "    <tr>\n",
       "      <th>Kristina Tkach</th>\n",
       "      <td>1380.058292</td>\n",
       "    </tr>\n",
       "    <tr>\n",
       "      <th>Ralf Souquet</th>\n",
       "      <td>1373.212198</td>\n",
       "    </tr>\n",
       "    <tr>\n",
       "      <th>Kelly Fisher</th>\n",
       "      <td>1321.468925</td>\n",
       "    </tr>\n",
       "  </tbody>\n",
       "</table>\n",
       "</div>"
      ],
      "text/plain": [
       "                       ratings\n",
       "David Alcaide      1705.970310\n",
       "Niels Feijen       1689.670905\n",
       "Eklent Kaci        1654.045591\n",
       "Albin Ouschan      1648.862917\n",
       "Chris Melling      1641.300990\n",
       "Naoyuki Oi         1620.890778\n",
       "Marc Bijsterbosch  1579.173243\n",
       "Denis Grabe        1504.205203\n",
       "Alex Kazakis       1470.679688\n",
       "Jasmin Ouschan     1439.981357\n",
       "Mieszko Fortunski  1438.439969\n",
       "Chris Robinson     1424.003305\n",
       "Roberto Gomez      1408.911173\n",
       "Casper Matikainen  1407.368550\n",
       "Darren Appleton    1404.133128\n",
       "Billy Thorpe       1387.623477\n",
       "Kristina Tkach     1380.058292\n",
       "Ralf Souquet       1373.212198\n",
       "Kelly Fisher       1321.468925"
      ]
     },
     "execution_count": 178,
     "metadata": {},
     "output_type": "execute_result"
    }
   ],
   "source": [
    "ratingsPrelims\n",
    "ratingsPrelims.sort_values(by='ratings', ascending = False)\n"
   ]
  },
  {
   "cell_type": "code",
   "execution_count": null,
   "metadata": {},
   "outputs": [],
   "source": []
  }
 ],
 "metadata": {
  "kernelspec": {
   "display_name": "Python 3",
   "language": "python",
   "name": "python3"
  },
  "language_info": {
   "codemirror_mode": {
    "name": "ipython",
    "version": 3
   },
   "file_extension": ".py",
   "mimetype": "text/x-python",
   "name": "python",
   "nbconvert_exporter": "python",
   "pygments_lexer": "ipython3",
   "version": "3.7.3"
  }
 },
 "nbformat": 4,
 "nbformat_minor": 4
}
