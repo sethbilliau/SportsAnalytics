{
 "cells": [
  {
   "cell_type": "code",
   "execution_count": 1,
   "metadata": {},
   "outputs": [],
   "source": [
    "\"\"\"\n",
    "    glicko2\n",
    "    ~~~~~~~\n",
    "    https://github.com/sublee/glicko2/blob/master/glicko2.py\n",
    "    The Glicko2 rating system.\n",
    "    :copyright: (c) 2012 by Heungsub Lee\n",
    "    :license: BSD, see LICENSE for more details.\n",
    "\"\"\"\n",
    "import math\n",
    "\n",
    "\n",
    "__version__ = '0.0.dev'\n",
    "\n",
    "\n",
    "#: The actual score for win\n",
    "WIN = 1.\n",
    "#: The actual score for draw\n",
    "DRAW = 0.5\n",
    "#: The actual score for loss\n",
    "LOSS = 0.\n",
    "\n",
    "\n",
    "MU = 1500\n",
    "PHI = 350\n",
    "SIGMA = 0.06\n",
    "TAU = 1.0\n",
    "EPSILON = 0.000001\n",
    "#: A constant which is used to standardize the logistic function to\n",
    "#: `1/(1+exp(-x))` from `1/(1+10^(-r/400))`\n",
    "Q = math.log(10) / 400\n",
    "\n",
    "\n",
    "class Rating(object):\n",
    "\n",
    "    def __init__(self, mu=MU, phi=PHI, sigma=SIGMA):\n",
    "        self.mu = mu\n",
    "        self.phi = phi\n",
    "        self.sigma = sigma\n",
    "\n",
    "    def __repr__(self):\n",
    "        c = type(self)\n",
    "        args = (c.__module__, c.__name__, self.mu, self.phi, self.sigma)\n",
    "        return '%s.%s(mu=%.3f, phi=%.3f, sigma=%.3f)' % args\n",
    "\n",
    "\n",
    "class Glicko2(object):\n",
    "\n",
    "    def __init__(self, mu=MU, phi=PHI, sigma=SIGMA, tau=TAU, epsilon=EPSILON):\n",
    "        self.mu = mu\n",
    "        self.phi = phi\n",
    "        self.sigma = sigma\n",
    "        self.tau = tau\n",
    "        self.epsilon = epsilon\n",
    "\n",
    "    def create_rating(self, mu=None, phi=None, sigma=None):\n",
    "        if mu is None:\n",
    "            mu = self.mu\n",
    "        if phi is None:\n",
    "            phi = self.phi\n",
    "        if sigma is None:\n",
    "            sigma = self.sigma\n",
    "        return Rating(mu, phi, sigma)\n",
    "\n",
    "    def scale_down(self, rating, ratio=173.7178):\n",
    "        mu = (rating.mu - self.mu) / ratio\n",
    "        phi = rating.phi / ratio\n",
    "        return self.create_rating(mu, phi, rating.sigma)\n",
    "\n",
    "    def scale_up(self, rating, ratio=173.7178):\n",
    "        mu = rating.mu * ratio + self.mu\n",
    "        phi = rating.phi * ratio\n",
    "        return self.create_rating(mu, phi, rating.sigma)\n",
    "\n",
    "    def reduce_impact(self, rating):\n",
    "        \"\"\"The original form is `g(RD)`. This function reduces the impact of\n",
    "        games as a function of an opponent's RD.\n",
    "        \"\"\"\n",
    "        return 1 / math.sqrt(1 + (3 * rating.phi ** 2) / (math.pi ** 2))\n",
    "\n",
    "    def expect_score(self, rating, other_rating, impact):\n",
    "        return 1. / (1 + math.exp(-impact * (rating.mu - other_rating.mu)))\n",
    "\n",
    "    def determine_sigma(self, rating, difference, variance):\n",
    "        \"\"\"Determines new sigma.\"\"\"\n",
    "        phi = rating.phi\n",
    "        difference_squared = difference ** 2\n",
    "        # 1. Let a = ln(s^2), and define f(x)\n",
    "        alpha = math.log(rating.sigma ** 2)\n",
    "        def f(x):\n",
    "            \"\"\"This function is twice the conditional log-posterior density of\n",
    "            phi, and is the optimality criterion.\n",
    "            \"\"\"\n",
    "            tmp = phi ** 2 + variance + math.exp(x)\n",
    "            a = math.exp(x) * (difference_squared - tmp) / (2 * tmp ** 2)\n",
    "            b = (x - alpha) / (self.tau ** 2)\n",
    "            return a - b\n",
    "        # 2. Set the initial values of the iterative algorithm.\n",
    "        a = alpha\n",
    "        if difference_squared > phi ** 2 + variance:\n",
    "            b = math.log(difference_squared - phi ** 2 - variance)\n",
    "        else:\n",
    "            k = 1\n",
    "            while f(alpha - k * math.sqrt(self.tau ** 2)) < 0:\n",
    "                k += 1\n",
    "            b = alpha - k * math.sqrt(self.tau ** 2)\n",
    "        # 3. Let fA = f(A) and f(B) = f(B)\n",
    "        f_a, f_b = f(a), f(b)\n",
    "        # 4. While |B-A| > e, carry out the following steps.\n",
    "        # (a) Let C = A + (A - B)fA / (fB-fA), and let fC = f(C).\n",
    "        # (b) If fCfB < 0, then set A <- B and fA <- fB; otherwise, just set\n",
    "        #     fA <- fA/2.\n",
    "        # (c) Set B <- C and fB <- fC.\n",
    "        # (d) Stop if |B-A| <= e. Repeat the above three steps otherwise.\n",
    "        while abs(b - a) > self.epsilon:\n",
    "            c = a + (a - b) * f_a / (f_b - f_a)\n",
    "            f_c = f(c)\n",
    "            if f_c * f_b < 0:\n",
    "                a, f_a = b, f_b\n",
    "            else:\n",
    "                f_a /= 2\n",
    "            b, f_b = c, f_c\n",
    "        # 5. Once |B-A| <= e, set s' <- e^(A/2)\n",
    "        return math.exp(1) ** (a / 2)\n",
    "\n",
    "    def rate(self, rating, series):\n",
    "        # Step 2. For each player, convert the rating and RD's onto the\n",
    "        #         Glicko-2 scale.\n",
    "        rating = self.scale_down(rating)\n",
    "        # Step 3. Compute the quantity v. This is the estimated variance of the\n",
    "        #         team's/player's rating based only on game outcomes.\n",
    "        # Step 4. Compute the quantity difference, the estimated improvement in\n",
    "        #         rating by comparing the pre-period rating to the performance\n",
    "        #         rating based only on game outcomes.\n",
    "        d_square_inv = 0\n",
    "        variance_inv = 0\n",
    "        difference = 0\n",
    "        if not series:\n",
    "            # If the team didn't play in the series, do only Step 6\n",
    "            phi_star = math.sqrt(rating.phi ** 2 + rating.sigma ** 2)\n",
    "            return self.scale_up(self.create_rating(rating.mu, phi_star, rating.sigma))\n",
    "        for actual_score, other_rating in series:\n",
    "            other_rating = self.scale_down(other_rating)\n",
    "            impact = self.reduce_impact(other_rating)\n",
    "            expected_score = self.expect_score(rating, other_rating, impact)\n",
    "            variance_inv += impact ** 2 * expected_score * (1 - expected_score)\n",
    "            difference += impact * (actual_score - expected_score)\n",
    "            d_square_inv += (\n",
    "                expected_score * (1 - expected_score) *\n",
    "                (Q ** 2) * (impact ** 2))\n",
    "        difference /= variance_inv\n",
    "        variance = 1. / variance_inv\n",
    "        denom = rating.phi ** -2 + d_square_inv\n",
    "        phi = math.sqrt(1 / denom)\n",
    "        # Step 5. Determine the new value, Sigma', ot the sigma. This\n",
    "        #         computation requires iteration.\n",
    "        sigma = self.determine_sigma(rating, difference, variance)\n",
    "        # Step 6. Update the rating deviation to the new pre-rating period\n",
    "        #         value, Phi*.\n",
    "        phi_star = math.sqrt(phi ** 2 + sigma ** 2)\n",
    "        # Step 7. Update the rating and RD to the new values, Mu' and Phi'.\n",
    "        phi = 1 / math.sqrt(1 / phi_star ** 2 + 1 / variance)\n",
    "        mu = rating.mu + phi ** 2 * (difference / variance)\n",
    "        # Step 8. Convert ratings and RD's back to original scale.\n",
    "        return self.scale_up(self.create_rating(mu, phi, sigma))\n",
    "\n",
    "    def rate_1vs1(self, rating1, rating2, drawn=False):\n",
    "        return (self.rate(rating1, [(DRAW if drawn else WIN, rating2)]),\n",
    "                self.rate(rating2, [(DRAW if drawn else LOSS, rating1)]))\n",
    "\n",
    "    def quality_1vs1(self, rating1, rating2):\n",
    "        expected_score1 = self.expect_score(rating1, rating2, self.reduce_impact(rating1))\n",
    "        expected_score2 = self.expect_score(rating2, rating1, self.reduce_impact(rating2))\n",
    "        expected_score = (expected_score1 + expected_score2) / 2\n",
    "        return 2 * (0.5 - abs(0.5 - expected_score))"
   ]
  },
  {
   "cell_type": "markdown",
   "metadata": {},
   "source": [
    "## Setting up Glicko-2 on our Data"
   ]
  },
  {
   "cell_type": "code",
   "execution_count": 5,
   "metadata": {},
   "outputs": [],
   "source": [
    "%matplotlib inline\n",
    "import numpy as np\n",
    "import scipy as sp\n",
    "import matplotlib as mpl\n",
    "import matplotlib.cm as cm\n",
    "import matplotlib.pyplot as plt\n",
    "import pandas as pd\n",
    "import time\n",
    "import seaborn as sns\n",
    "from bs4 import BeautifulSoup\n",
    "import requests\n",
    "import csv\n",
    "from datetime import datetime\n",
    "import math"
   ]
  },
  {
   "cell_type": "code",
   "execution_count": 6,
   "metadata": {},
   "outputs": [],
   "source": [
    "# Load validation dataset (from a 2021 tournament) \n",
    "val_data = pd.read_csv('data/predatorCLPClean.csv')\n",
    "val_data['date'] = pd.to_datetime(val_data['date'])\n",
    "\n",
    "# Load the entire dataset (years 2010 - 2020)\n",
    "fulldf = pd.read_csv(\"data/fulldf.csv\")\n",
    "fulldf['date'] = pd.to_datetime(fulldf['date'])"
   ]
  },
  {
   "cell_type": "code",
   "execution_count": 7,
   "metadata": {},
   "outputs": [
    {
     "name": "stdout",
     "output_type": "stream",
     "text": [
      "Index(['Shane Van Boening', 'Niels Feijen', 'Jayson Shaw', 'Eklent Kaci',\n",
      "       'Ralf Souquet', 'Albin Ouschan', 'Joshua Filler', 'Alex Kazakis',\n",
      "       'David Alcaide', 'Denis Grabe',\n",
      "       ...\n",
      "       'Bu Hong Kong', 'Alessandro La Vecchia', 'Nicholas Devries',\n",
      "       'Valery Kuloyants', 'RJ Carmona', 'Aleksandrs Horsuns', 'Raed Shabib',\n",
      "       'Tony Crosby', 'Rafig Adigazalov', 'Kim Ga Young'],\n",
      "      dtype='object', length=1248)\n"
     ]
    },
    {
     "data": {
      "text/plain": [
       "1248"
      ]
     },
     "execution_count": 7,
     "metadata": {},
     "output_type": "execute_result"
    }
   ],
   "source": [
    "# List of player names\n",
    "players = pd.concat([fulldf.playerA, fulldf.playerB])\n",
    "print(players.value_counts().index.unique())\n",
    "\n",
    "# Total number of players\n",
    "nplayers = len(players.value_counts())\n",
    "nplayers"
   ]
  },
  {
   "cell_type": "code",
   "execution_count": 156,
   "metadata": {},
   "outputs": [],
   "source": [
    "env = Glicko2(tau=0.3)\n",
    "\n",
    "def get_glicko2_ratings(df):\n",
    "    # Set up ratings dict\n",
    "    glicko_ratings = dict(zip(players.value_counts().index.unique(), \n",
    "                              np.repeat(env.create_rating(1500), nplayers)))\n",
    "    glicko_ratings_updated = dict(zip(players.value_counts().index.unique(), \n",
    "                                      np.repeat(env.create_rating(1500), nplayers)))\n",
    "    \n",
    "    # for each rating period, construct a series based on a players games, update the ratings\n",
    "    for rating_period_year in [2016, 2017, 2018, 2019, 2020]:\n",
    "        rating_period_df = df.loc[(fulldf.date >= datetime(rating_period_year, 1, 1, 0, 0)) & \n",
    "                                  (fulldf.date <= datetime(rating_period_year, 12, 31, 0, 0))]\n",
    "        \n",
    "        for player in players:\n",
    "            player_series = get_player_series_for_rating_period(rating_period_df, player, glicko_ratings)\n",
    "            player_updated_rating = env.rate(glicko_ratings[player], player_series)\n",
    "            glicko_ratings_updated[player] = player_updated_rating\n",
    "            \n",
    "        glicko_ratings = glicko_ratings_updated\n",
    "        \n",
    "    ratings = pd.DataFrame.from_dict(glicko_ratings, orient='index')\n",
    "    ratings = ratings.rename(columns={0: \"ratings\"})\n",
    "    \n",
    "    ratings_expanded_df = ratings.copy()\n",
    "    ratings_expanded_df[\"deviation\"] = 0\n",
    "    ratings_expanded_df[\"vol\"] = 0\n",
    "    ratings_lst = []\n",
    "    dev_lst = []\n",
    "    vol_lst = []\n",
    "    for index, row in ratings_expanded_df.iterrows():\n",
    "        dev_lst.append(row[0].phi)\n",
    "        vol_lst.append(row[0].sigma)\n",
    "        ratings_lst.append(row[0].mu)\n",
    "\n",
    "    ratings_expanded_df[\"ratings\"] = ratings_lst\n",
    "    ratings_expanded_df[\"deviation\"] = dev_lst\n",
    "    ratings_expanded_df[\"vol\"] = vol_lst\n",
    "        \n",
    "    return ratings, ratings_expanded_df\n",
    "\n",
    "        \n",
    "def get_player_series_for_rating_period(df, player, glicko_ratings):\n",
    "    player_games_df = df.loc[(df.playerA == player) | (df.playerB == player)]\n",
    "    \n",
    "    series = []\n",
    "    for index, row in player_games_df.iterrows():\n",
    "        if row['playerARacks'] > row['playerBRacks']: \n",
    "            winner = row[\"playerA\"]\n",
    "            loser = row[\"playerB\"]\n",
    "        else: \n",
    "            winner = row['playerB']\n",
    "            loser = row['playerA']\n",
    "            \n",
    "        if winner == player:\n",
    "            series.append((WIN, glicko_ratings[loser]))\n",
    "        else:\n",
    "            series.append((LOSS, glicko_ratings[winner]))\n",
    "            \n",
    "    return series"
   ]
  },
  {
   "cell_type": "code",
   "execution_count": 154,
   "metadata": {},
   "outputs": [
    {
     "name": "stderr",
     "output_type": "stream",
     "text": [
      "/Users/sarah/miniconda3/envs/91rEnv/lib/python3.7/site-packages/ipykernel_launcher.py:29: SettingWithCopyWarning: \n",
      "A value is trying to be set on a copy of a slice from a DataFrame\n",
      "\n",
      "See the caveats in the documentation: http://pandas.pydata.org/pandas-docs/stable/indexing.html#indexing-view-versus-copy\n",
      "/Users/sarah/miniconda3/envs/91rEnv/lib/python3.7/site-packages/ipykernel_launcher.py:30: SettingWithCopyWarning: \n",
      "A value is trying to be set on a copy of a slice from a DataFrame\n",
      "\n",
      "See the caveats in the documentation: http://pandas.pydata.org/pandas-docs/stable/indexing.html#indexing-view-versus-copy\n",
      "/Users/sarah/miniconda3/envs/91rEnv/lib/python3.7/site-packages/ipykernel_launcher.py:31: SettingWithCopyWarning: \n",
      "A value is trying to be set on a copy of a slice from a DataFrame\n",
      "\n",
      "See the caveats in the documentation: http://pandas.pydata.org/pandas-docs/stable/indexing.html#indexing-view-versus-copy\n"
     ]
    }
   ],
   "source": [
    "ratings, ratings_expanded_df = get_glicko2_ratings(fulldf)\n",
    "\n",
    "# ratings.sort_values(by='ratings', ascending = False)[0:25]"
   ]
  },
  {
   "cell_type": "code",
   "execution_count": 160,
   "metadata": {},
   "outputs": [
    {
     "data": {
      "text/html": [
       "<div>\n",
       "<style scoped>\n",
       "    .dataframe tbody tr th:only-of-type {\n",
       "        vertical-align: middle;\n",
       "    }\n",
       "\n",
       "    .dataframe tbody tr th {\n",
       "        vertical-align: top;\n",
       "    }\n",
       "\n",
       "    .dataframe thead th {\n",
       "        text-align: right;\n",
       "    }\n",
       "</style>\n",
       "<table border=\"1\" class=\"dataframe\">\n",
       "  <thead>\n",
       "    <tr style=\"text-align: right;\">\n",
       "      <th></th>\n",
       "      <th>ratings</th>\n",
       "      <th>deviation</th>\n",
       "      <th>vol</th>\n",
       "    </tr>\n",
       "  </thead>\n",
       "  <tbody>\n",
       "    <tr>\n",
       "      <th>Eklent Kaci</th>\n",
       "      <td>2417.047830</td>\n",
       "      <td>34.938906</td>\n",
       "      <td>0.052873</td>\n",
       "    </tr>\n",
       "    <tr>\n",
       "      <th>Jayson Shaw</th>\n",
       "      <td>2405.369638</td>\n",
       "      <td>35.506133</td>\n",
       "      <td>0.054647</td>\n",
       "    </tr>\n",
       "    <tr>\n",
       "      <th>Fedor Gorst</th>\n",
       "      <td>2350.944757</td>\n",
       "      <td>33.312835</td>\n",
       "      <td>0.056084</td>\n",
       "    </tr>\n",
       "    <tr>\n",
       "      <th>Yu Hsuan Cheng</th>\n",
       "      <td>2290.740642</td>\n",
       "      <td>67.961180</td>\n",
       "      <td>0.059979</td>\n",
       "    </tr>\n",
       "    <tr>\n",
       "      <th>Carlos Castro</th>\n",
       "      <td>2282.289440</td>\n",
       "      <td>87.793865</td>\n",
       "      <td>0.059993</td>\n",
       "    </tr>\n",
       "    <tr>\n",
       "      <th>Lee Vann Corteza</th>\n",
       "      <td>2251.536662</td>\n",
       "      <td>62.776148</td>\n",
       "      <td>0.060021</td>\n",
       "    </tr>\n",
       "    <tr>\n",
       "      <th>Joshua Filler</th>\n",
       "      <td>2210.497729</td>\n",
       "      <td>39.410951</td>\n",
       "      <td>0.053888</td>\n",
       "    </tr>\n",
       "    <tr>\n",
       "      <th>Maximilian Lechner</th>\n",
       "      <td>2200.316793</td>\n",
       "      <td>34.653296</td>\n",
       "      <td>0.058313</td>\n",
       "    </tr>\n",
       "    <tr>\n",
       "      <th>Petri Makkonen</th>\n",
       "      <td>2192.304441</td>\n",
       "      <td>39.465111</td>\n",
       "      <td>0.058990</td>\n",
       "    </tr>\n",
       "    <tr>\n",
       "      <th>Niels Feijen</th>\n",
       "      <td>2184.675033</td>\n",
       "      <td>31.200923</td>\n",
       "      <td>0.052315</td>\n",
       "    </tr>\n",
       "    <tr>\n",
       "      <th>Kai-Lun Hsu</th>\n",
       "      <td>2180.279244</td>\n",
       "      <td>57.918938</td>\n",
       "      <td>0.059936</td>\n",
       "    </tr>\n",
       "    <tr>\n",
       "      <th>Chang Yu-Lung</th>\n",
       "      <td>2175.608392</td>\n",
       "      <td>70.500507</td>\n",
       "      <td>0.060207</td>\n",
       "    </tr>\n",
       "    <tr>\n",
       "      <th>Thomas Kaplan</th>\n",
       "      <td>2168.141373</td>\n",
       "      <td>137.819615</td>\n",
       "      <td>0.060001</td>\n",
       "    </tr>\n",
       "    <tr>\n",
       "      <th>Thomasz Kaplan</th>\n",
       "      <td>2165.483103</td>\n",
       "      <td>61.216213</td>\n",
       "      <td>0.059980</td>\n",
       "    </tr>\n",
       "    <tr>\n",
       "      <th>Radoslaw Babica</th>\n",
       "      <td>2164.447713</td>\n",
       "      <td>46.965669</td>\n",
       "      <td>0.059080</td>\n",
       "    </tr>\n",
       "    <tr>\n",
       "      <th>Yu-Lung Chang</th>\n",
       "      <td>2155.584034</td>\n",
       "      <td>58.322257</td>\n",
       "      <td>0.059957</td>\n",
       "    </tr>\n",
       "    <tr>\n",
       "      <th>Mickey Krause</th>\n",
       "      <td>2143.790898</td>\n",
       "      <td>35.415990</td>\n",
       "      <td>0.059959</td>\n",
       "    </tr>\n",
       "    <tr>\n",
       "      <th>Mateusz Sniegocki</th>\n",
       "      <td>2129.148673</td>\n",
       "      <td>40.508716</td>\n",
       "      <td>0.058624</td>\n",
       "    </tr>\n",
       "    <tr>\n",
       "      <th>Liu Haitao</th>\n",
       "      <td>2117.180009</td>\n",
       "      <td>76.297989</td>\n",
       "      <td>0.060014</td>\n",
       "    </tr>\n",
       "    <tr>\n",
       "      <th>Wu Jiaqing</th>\n",
       "      <td>2112.677636</td>\n",
       "      <td>72.396634</td>\n",
       "      <td>0.059884</td>\n",
       "    </tr>\n",
       "    <tr>\n",
       "      <th>Konrad Juszczyszyn</th>\n",
       "      <td>2110.593364</td>\n",
       "      <td>39.035447</td>\n",
       "      <td>0.058963</td>\n",
       "    </tr>\n",
       "    <tr>\n",
       "      <th>Aloysius Yapp</th>\n",
       "      <td>2097.009338</td>\n",
       "      <td>61.164746</td>\n",
       "      <td>0.060078</td>\n",
       "    </tr>\n",
       "    <tr>\n",
       "      <th>Wang Can</th>\n",
       "      <td>2080.351259</td>\n",
       "      <td>68.175131</td>\n",
       "      <td>0.060020</td>\n",
       "    </tr>\n",
       "    <tr>\n",
       "      <th>Jalal Al Sarisi</th>\n",
       "      <td>2075.162011</td>\n",
       "      <td>96.093489</td>\n",
       "      <td>0.059992</td>\n",
       "    </tr>\n",
       "    <tr>\n",
       "      <th>Mieszko Fortunski</th>\n",
       "      <td>2074.489388</td>\n",
       "      <td>35.138441</td>\n",
       "      <td>0.058283</td>\n",
       "    </tr>\n",
       "  </tbody>\n",
       "</table>\n",
       "</div>"
      ],
      "text/plain": [
       "                        ratings   deviation       vol\n",
       "Eklent Kaci         2417.047830   34.938906  0.052873\n",
       "Jayson Shaw         2405.369638   35.506133  0.054647\n",
       "Fedor Gorst         2350.944757   33.312835  0.056084\n",
       "Yu Hsuan Cheng      2290.740642   67.961180  0.059979\n",
       "Carlos Castro       2282.289440   87.793865  0.059993\n",
       "Lee Vann Corteza    2251.536662   62.776148  0.060021\n",
       "Joshua Filler       2210.497729   39.410951  0.053888\n",
       "Maximilian Lechner  2200.316793   34.653296  0.058313\n",
       "Petri Makkonen      2192.304441   39.465111  0.058990\n",
       "Niels Feijen        2184.675033   31.200923  0.052315\n",
       "Kai-Lun Hsu         2180.279244   57.918938  0.059936\n",
       "Chang Yu-Lung       2175.608392   70.500507  0.060207\n",
       "Thomas Kaplan       2168.141373  137.819615  0.060001\n",
       "Thomasz Kaplan      2165.483103   61.216213  0.059980\n",
       "Radoslaw Babica     2164.447713   46.965669  0.059080\n",
       "Yu-Lung Chang       2155.584034   58.322257  0.059957\n",
       "Mickey Krause       2143.790898   35.415990  0.059959\n",
       "Mateusz Sniegocki   2129.148673   40.508716  0.058624\n",
       "Liu Haitao          2117.180009   76.297989  0.060014\n",
       "Wu Jiaqing          2112.677636   72.396634  0.059884\n",
       "Konrad Juszczyszyn  2110.593364   39.035447  0.058963\n",
       "Aloysius Yapp       2097.009338   61.164746  0.060078\n",
       "Wang Can            2080.351259   68.175131  0.060020\n",
       "Jalal Al Sarisi     2075.162011   96.093489  0.059992\n",
       "Mieszko Fortunski   2074.489388   35.138441  0.058283"
      ]
     },
     "execution_count": 160,
     "metadata": {},
     "output_type": "execute_result"
    }
   ],
   "source": [
    "ratings_expanded_df.sort_values(by='ratings', ascending = False)[0:25]"
   ]
  },
  {
   "cell_type": "code",
   "execution_count": 134,
   "metadata": {},
   "outputs": [],
   "source": [
    "def get_winner_loser(row):\n",
    "    '''\n",
    "    TODO\n",
    "    Get the winner and loser of the match. The winner is the player with more racks. Matches are played until \n",
    "    one player wins X number of racks (typically 5, 6, or 9).\n",
    "    \n",
    "    params\n",
    "    row: Match in dataframe\n",
    "    \n",
    "    return \n",
    "    winner: Match winner's name\n",
    "    loser: Match loser's name\n",
    "    '''\n",
    "    if row['playerARacks'] > row['playerBRacks']: \n",
    "        winner = row[\"playerA\"]\n",
    "        loser = row[\"playerB\"]\n",
    "    else: \n",
    "        winner = row['playerB']\n",
    "        loser = row['playerA']\n",
    "        \n",
    "    return winner, loser\n",
    "\n",
    "\n",
    "def get_loglikelihood(newdata, ratings):\n",
    "    '''\n",
    "    TODO\n",
    "    Calculate the loglikelihood of Elo predictions on the new data.\n",
    "    \n",
    "    params\n",
    "    newdata: Dataframe of validation data\n",
    "    ratings: Elo ratings of all players\n",
    "    ELO_WIDTH: Elo system rating change constant\n",
    "    \n",
    "    return \n",
    "    loglikelihood: The loglikelihood of Elo predictions\n",
    "    '''  \n",
    "    loglikelihood = 0\n",
    "    # Iterate through rows of dataframe \n",
    "    for index, row in newdata.iterrows():\n",
    "        winner, loser = get_winner_loser(row)\n",
    "        winnerrating = ratings.loc[winner][0]\n",
    "        loserrating = ratings.loc[loser][0]\n",
    "        \n",
    "        # Scale to the Glicko scale\n",
    "        winner_scaled = env.scale_down(winnerrating)\n",
    "        loser_scaled = env.scale_down(loserrating)\n",
    "        proba = env.expect_score(winner_scaled, loser_scaled, env.reduce_impact(loser_scaled))  \n",
    "    \n",
    "        loglikelihood += math.log(proba)\n",
    "\n",
    "    return loglikelihood"
   ]
  },
  {
   "cell_type": "code",
   "execution_count": 111,
   "metadata": {},
   "outputs": [],
   "source": [
    "# Players in the validation set\n",
    "players_val = pd.concat([val_data.playerA, val_data.playerB])\n",
    "\n",
    "\n",
    "def get_CLPratings(ratings):\n",
    "    '''\n",
    "    TODO\n",
    "    Get the players in the validation set and in the training data plus their corresponding predicted Elo ratings.\n",
    "    \n",
    "    params\n",
    "    ratings: Elo ratings based on training data\n",
    "    \n",
    "    return\n",
    "    CLPratings: Elo ratings for the players in the validation set\n",
    "    val_players_names: Players in the validation set and in the training data\n",
    "    val_players_idx: Indices of players in both the validation and training data\n",
    "    '''\n",
    "    # Get players index\n",
    "    val_players_idx = []\n",
    "    for player in players_val.unique():\n",
    "        if player in ratings.index:\n",
    "            val_players_idx.append(np.where(players.value_counts().index == player)[0][0])\n",
    "    \n",
    "    # Get player list\n",
    "    players.value_counts()[val_players_idx]\n",
    "    val_players_names = list(players.value_counts()[val_players_idx].index)\n",
    "\n",
    "    # Create CLPratings\n",
    "    CLPratings = ratings.iloc[np.array(val_players_idx)]\n",
    "    CLPratings = CLPratings.set_index(pd.Index(val_players_names))\n",
    "    return CLPratings, val_players_names, val_players_idx\n",
    "\n",
    "\n",
    "CLPratings, val_players_names, val_players_idx = get_CLPratings(ratings)"
   ]
  },
  {
   "cell_type": "code",
   "execution_count": 161,
   "metadata": {},
   "outputs": [
    {
     "data": {
      "text/plain": [
       "-182.0987429009048"
      ]
     },
     "execution_count": 161,
     "metadata": {},
     "output_type": "execute_result"
    }
   ],
   "source": [
    "# Filter ratings for players in the validation set \n",
    "val_players_ratings = ratings.loc[val_players_names]\n",
    "# val_players_ratings.sort_values(by='ratings', ascending = False)\n",
    "\n",
    "get_loglikelihood(val_data, val_players_ratings)"
   ]
  },
  {
   "cell_type": "code",
   "execution_count": 165,
   "metadata": {},
   "outputs": [
    {
     "name": "stdout",
     "output_type": "stream",
     "text": [
      "0.3\n",
      "0.4\n",
      "0.5\n",
      "0.6000000000000001\n",
      "0.7000000000000002\n",
      "0.8000000000000003\n",
      "0.9000000000000001\n",
      "1.0000000000000002\n"
     ]
    }
   ],
   "source": [
    "for x in np.arange(0.3, 1.1, 0.1):\n",
    "    print(x)"
   ]
  },
  {
   "cell_type": "code",
   "execution_count": 166,
   "metadata": {},
   "outputs": [
    {
     "data": {
      "text/plain": [
       "[-182.0987429009048,\n",
       " -181.63009065036746,\n",
       " -181.0655274924117,\n",
       " -180.4258711012945,\n",
       " -179.72816378742093,\n",
       " -178.99029388672128,\n",
       " -178.2262561966674,\n",
       " -177.4483677171787]"
      ]
     },
     "execution_count": 166,
     "metadata": {},
     "output_type": "execute_result"
    }
   ],
   "source": [
    "loglikelihoods = []\n",
    "for tau in np.arange(0.3, 1.1, 0.1):\n",
    "    env = Glicko2(tau=tau)\n",
    "    ratings2, ratings2_expanded_df = get_glicko2_ratings(fulldf)\n",
    "\n",
    "    val_players_ratings2 = ratings2.loc[val_players_names]\n",
    "    loglikelihoods.append(get_loglikelihood(val_data, val_players_ratings2))\n",
    "    \n",
    "loglikelihoods"
   ]
  },
  {
   "cell_type": "code",
   "execution_count": 169,
   "metadata": {},
   "outputs": [
    {
     "data": {
      "text/plain": [
       "[-182.0987429009048,\n",
       " -181.63009065036746,\n",
       " -181.0655274924117,\n",
       " -180.4258711012945,\n",
       " -179.72816378742093,\n",
       " -178.99029388672128,\n",
       " -178.2262561966674,\n",
       " -177.4483677171787,\n",
       " -176.66680835277165,\n",
       " -175.89098665784596,\n",
       " -175.13253345846468,\n",
       " -174.37706059668105,\n",
       " -173.70414917263787]"
      ]
     },
     "execution_count": 169,
     "metadata": {},
     "output_type": "execute_result"
    }
   ],
   "source": [
    "for tau in np.arange(1.1, 1.6, 0.1):\n",
    "    env = Glicko2(tau=tau)\n",
    "    ratings2, ratings2_expanded_df = get_glicko2_ratings(fulldf)\n",
    "\n",
    "    val_players_ratings2 = ratings2.loc[val_players_names]\n",
    "    loglikelihoods.append(get_loglikelihood(val_data, val_players_ratings2))\n",
    "    \n",
    "loglikelihoods"
   ]
  },
  {
   "cell_type": "code",
   "execution_count": 170,
   "metadata": {},
   "outputs": [
    {
     "data": {
      "text/plain": [
       "-170.38768626570132"
      ]
     },
     "execution_count": 170,
     "metadata": {},
     "output_type": "execute_result"
    }
   ],
   "source": [
    "env = Glicko2(tau=2)\n",
    "ratings2, ratings2_expanded_df = get_glicko2_ratings(fulldf)\n",
    "\n",
    "val_players_ratings2 = ratings2.loc[val_players_names]\n",
    "get_loglikelihood(val_data, val_players_ratings2)"
   ]
  },
  {
   "cell_type": "code",
   "execution_count": 8,
   "metadata": {},
   "outputs": [],
   "source": [
    "glicko_ratings = dict(zip(players.value_counts().index.unique(), \n",
    "                           np.repeat(env.create_rating(1500), nplayers)))"
   ]
  },
  {
   "cell_type": "code",
   "execution_count": 35,
   "metadata": {},
   "outputs": [
    {
     "data": {
      "text/html": [
       "<div>\n",
       "<style scoped>\n",
       "    .dataframe tbody tr th:only-of-type {\n",
       "        vertical-align: middle;\n",
       "    }\n",
       "\n",
       "    .dataframe tbody tr th {\n",
       "        vertical-align: top;\n",
       "    }\n",
       "\n",
       "    .dataframe thead th {\n",
       "        text-align: right;\n",
       "    }\n",
       "</style>\n",
       "<table border=\"1\" class=\"dataframe\">\n",
       "  <thead>\n",
       "    <tr style=\"text-align: right;\">\n",
       "      <th></th>\n",
       "      <th>Unnamed: 0</th>\n",
       "      <th>Unnamed: 0.1</th>\n",
       "      <th>matchIndex</th>\n",
       "      <th>date</th>\n",
       "      <th>playerA</th>\n",
       "      <th>playerARacks</th>\n",
       "      <th>playerB</th>\n",
       "      <th>playerBRacks</th>\n",
       "      <th>competition</th>\n",
       "    </tr>\n",
       "  </thead>\n",
       "  <tbody>\n",
       "    <tr>\n",
       "      <th>0</th>\n",
       "      <td>0</td>\n",
       "      <td>0</td>\n",
       "      <td>1</td>\n",
       "      <td>2007-10-14</td>\n",
       "      <td>Shane Van Boening</td>\n",
       "      <td>11</td>\n",
       "      <td>Ronnie Alcano</td>\n",
       "      <td>4</td>\n",
       "      <td>2007 US Open 9-Ball</td>\n",
       "    </tr>\n",
       "    <tr>\n",
       "      <th>1</th>\n",
       "      <td>1</td>\n",
       "      <td>1</td>\n",
       "      <td>2</td>\n",
       "      <td>2007-10-14</td>\n",
       "      <td>Ernesto Dominguez</td>\n",
       "      <td>11</td>\n",
       "      <td>Frankie Hernandez</td>\n",
       "      <td>5</td>\n",
       "      <td>2007 US Open 9-Ball</td>\n",
       "    </tr>\n",
       "    <tr>\n",
       "      <th>2</th>\n",
       "      <td>2</td>\n",
       "      <td>2</td>\n",
       "      <td>3</td>\n",
       "      <td>2007-10-14</td>\n",
       "      <td>Tony Robles</td>\n",
       "      <td>11</td>\n",
       "      <td>Rafael Martinez</td>\n",
       "      <td>5</td>\n",
       "      <td>2007 US Open 9-Ball</td>\n",
       "    </tr>\n",
       "    <tr>\n",
       "      <th>3</th>\n",
       "      <td>3</td>\n",
       "      <td>3</td>\n",
       "      <td>4</td>\n",
       "      <td>2007-10-14</td>\n",
       "      <td>Louis Ulrich</td>\n",
       "      <td>11</td>\n",
       "      <td>Alex Pagulayan</td>\n",
       "      <td>7</td>\n",
       "      <td>2007 US Open 9-Ball</td>\n",
       "    </tr>\n",
       "    <tr>\n",
       "      <th>4</th>\n",
       "      <td>4</td>\n",
       "      <td>4</td>\n",
       "      <td>5</td>\n",
       "      <td>2007-10-14</td>\n",
       "      <td>Francisco Bustamante</td>\n",
       "      <td>11</td>\n",
       "      <td>Richie Orem</td>\n",
       "      <td>4</td>\n",
       "      <td>2007 US Open 9-Ball</td>\n",
       "    </tr>\n",
       "  </tbody>\n",
       "</table>\n",
       "</div>"
      ],
      "text/plain": [
       "   Unnamed: 0  Unnamed: 0.1  matchIndex       date               playerA  \\\n",
       "0           0             0           1 2007-10-14     Shane Van Boening   \n",
       "1           1             1           2 2007-10-14     Ernesto Dominguez   \n",
       "2           2             2           3 2007-10-14           Tony Robles   \n",
       "3           3             3           4 2007-10-14          Louis Ulrich   \n",
       "4           4             4           5 2007-10-14  Francisco Bustamante   \n",
       "\n",
       "   playerARacks            playerB  playerBRacks          competition  \n",
       "0            11      Ronnie Alcano             4  2007 US Open 9-Ball  \n",
       "1            11  Frankie Hernandez             5  2007 US Open 9-Ball  \n",
       "2            11    Rafael Martinez             5  2007 US Open 9-Ball  \n",
       "3            11     Alex Pagulayan             7  2007 US Open 9-Ball  \n",
       "4            11        Richie Orem             4  2007 US Open 9-Ball  "
      ]
     },
     "execution_count": 35,
     "metadata": {},
     "output_type": "execute_result"
    }
   ],
   "source": [
    "fulldf.head()"
   ]
  },
  {
   "cell_type": "code",
   "execution_count": 94,
   "metadata": {},
   "outputs": [
    {
     "data": {
      "text/plain": [
       "0.9748025831655113"
      ]
     },
     "execution_count": 94,
     "metadata": {},
     "output_type": "execute_result"
    }
   ],
   "source": [
    "r1 = env.create_rating(2000, 100, 0.6)\n",
    "r2 = env.create_rating(1800, 50, 0.06)\n",
    "env.quality_1vs1(r2, r1)"
   ]
  },
  {
   "cell_type": "code",
   "execution_count": null,
   "metadata": {},
   "outputs": [],
   "source": [
    "# env.expect_score(winner_rating, loser_rating, env.reduce_impact(loser_rating))"
   ]
  },
  {
   "cell_type": "code",
   "execution_count": 75,
   "metadata": {},
   "outputs": [
    {
     "data": {
      "text/plain": [
       "0.6737951186150519"
      ]
     },
     "execution_count": 75,
     "metadata": {},
     "output_type": "execute_result"
    }
   ],
   "source": [
    "expected_score1"
   ]
  },
  {
   "cell_type": "code",
   "execution_count": 76,
   "metadata": {},
   "outputs": [
    {
     "data": {
      "text/plain": [
       "0.18998837906314497"
      ]
     },
     "execution_count": 76,
     "metadata": {},
     "output_type": "execute_result"
    }
   ],
   "source": [
    "expected_score2"
   ]
  },
  {
   "cell_type": "code",
   "execution_count": null,
   "metadata": {},
   "outputs": [],
   "source": [
    "other_rating = self.scale_down(other_rating)\n",
    "impact = self.reduce_impact(other_rating)\n",
    "expected_score = self.expect_score(rating, other_rating, impact)"
   ]
  },
  {
   "cell_type": "code",
   "execution_count": 96,
   "metadata": {},
   "outputs": [],
   "source": []
  },
  {
   "cell_type": "code",
   "execution_count": 86,
   "metadata": {},
   "outputs": [
    {
     "data": {
      "text/plain": [
       "0.03625214217336954"
      ]
     },
     "execution_count": 86,
     "metadata": {},
     "output_type": "execute_result"
    }
   ],
   "source": [
    "env.reduce_impact(r2)"
   ]
  },
  {
   "cell_type": "code",
   "execution_count": 85,
   "metadata": {},
   "outputs": [
    {
     "data": {
      "text/plain": [
       "0.9876424015961195"
      ]
     },
     "execution_count": 85,
     "metadata": {},
     "output_type": "execute_result"
    }
   ],
   "source": [
    "env.reduce_impact(r2_s)"
   ]
  },
  {
   "cell_type": "code",
   "execution_count": 97,
   "metadata": {},
   "outputs": [
    {
     "data": {
      "text/plain": [
       "0.7571404149989154"
      ]
     },
     "execution_count": 97,
     "metadata": {},
     "output_type": "execute_result"
    }
   ],
   "source": [
    "r1_s = env.scale_down(r1)\n",
    "r2_s = env.scale_down(r2)\n",
    "env.expect_score(r1_s, r2_s, env.reduce_impact(r2_s))"
   ]
  },
  {
   "cell_type": "code",
   "execution_count": 98,
   "metadata": {},
   "outputs": [
    {
     "data": {
      "text/plain": [
       "0.25023614063382654"
      ]
     },
     "execution_count": 98,
     "metadata": {},
     "output_type": "execute_result"
    }
   ],
   "source": [
    "env.expect_score(r2_s, r1_s, env.reduce_impact(r1_s))"
   ]
  },
  {
   "cell_type": "code",
   "execution_count": 89,
   "metadata": {},
   "outputs": [
    {
     "data": {
      "text/plain": [
       "0.8100116209368551"
      ]
     },
     "execution_count": 89,
     "metadata": {},
     "output_type": "execute_result"
    }
   ],
   "source": [
    "env.expect_score(r1, r2, env.reduce_impact(r2))"
   ]
  },
  {
   "cell_type": "code",
   "execution_count": 93,
   "metadata": {},
   "outputs": [
    {
     "data": {
      "text/plain": [
       "1.1362165023218032"
      ]
     },
     "execution_count": 93,
     "metadata": {},
     "output_type": "execute_result"
    }
   ],
   "source": [
    "env.expect_score(r1, r2, env.reduce_impact(r2)) + env.expect_score(r2, r1, env.reduce_impact(r1))"
   ]
  },
  {
   "cell_type": "code",
   "execution_count": null,
   "metadata": {},
   "outputs": [],
   "source": []
  }
 ],
 "metadata": {
  "kernelspec": {
   "display_name": "Python 3",
   "language": "python",
   "name": "python3"
  },
  "language_info": {
   "codemirror_mode": {
    "name": "ipython",
    "version": 3
   },
   "file_extension": ".py",
   "mimetype": "text/x-python",
   "name": "python",
   "nbconvert_exporter": "python",
   "pygments_lexer": "ipython3",
   "version": "3.7.9"
  }
 },
 "nbformat": 4,
 "nbformat_minor": 4
}
